{
 "cells": [
  {
   "cell_type": "markdown",
   "id": "c5475134",
   "metadata": {},
   "source": [
    "# Set Comprehension\n",
    "\n",
    "Like we do for other data types such as list, we can do comprehension in sets as well but by using curly braces {}. :)"
   ]
  },
  {
   "cell_type": "code",
   "execution_count": 10,
   "id": "796a64f1",
   "metadata": {
    "scrolled": true
   },
   "outputs": [
    {
     "name": "stdout",
     "output_type": "stream",
     "text": [
      "{'Nivetha', 'Ram'}\n"
     ]
    }
   ],
   "source": [
    "family={\"Kausik\",\"Karthick\",\"Kumar\",\"Vinitha\",\"Reshma\",\"Nivetha\",\"Ram\",\"Saadvick\",\"Tanvick\"}\n",
    "guests={\"Rohan\",\"Pragya\",\"Kirti\",\"Satyam\",\"Prashant\",\"Nivetha\",\"Ram\"}\n",
    "commonlist=set(family.intersection(guests))\n",
    "common={com.title() for com in commonl}\n",
    "print(common)"
   ]
  },
  {
   "cell_type": "markdown",
   "id": "0d62b108",
   "metadata": {},
   "source": [
    "# Dictionary Comprehension\n",
    "\n",
    "Same as set comprehension we do comprehensions in dictionaries as well.\n",
    "\n",
    "Lets take an example:\n",
    "\n",
    "We have a list of friends who come to the party, and the time since we've seen them.\n",
    "\n",
    "We are about to print a dictionary which has the key value as their name and the value as the time since we had them.\n"
   ]
  },
  {
   "cell_type": "code",
   "execution_count": 18,
   "id": "9e3f4078",
   "metadata": {},
   "outputs": [
    {
     "name": "stdout",
     "output_type": "stream",
     "text": [
      "{'Reshma': 1, 'Ram': 42, 'Kumar': 5, 'Saadvick': 7, 'Kausik': 4, 'Nivetha': 7, 'Karthick': 2, 'Tanvick': 1, 'Vinitha': 6}\n"
     ]
    }
   ],
   "source": [
    "f=['Reshma', 'Ram', 'Kumar', 'Saadvick', 'Kausik', 'Nivetha', 'Karthick', 'Tanvick', 'Vinitha']\n",
    "time_last_seen=[1,42,5,7,4,7,2,1,6]\n",
    "long_timers={\n",
    "    f[i]: time_last_seen[i]\n",
    "    for i in range(len(f))\n",
    "}\n",
    "print(long_timers)"
   ]
  },
  {
   "cell_type": "code",
   "execution_count": null,
   "id": "2de9163e",
   "metadata": {},
   "outputs": [],
   "source": []
  }
 ],
 "metadata": {
  "kernelspec": {
   "display_name": "Python 3 (ipykernel)",
   "language": "python",
   "name": "python3"
  },
  "language_info": {
   "codemirror_mode": {
    "name": "ipython",
    "version": 3
   },
   "file_extension": ".py",
   "mimetype": "text/x-python",
   "name": "python",
   "nbconvert_exporter": "python",
   "pygments_lexer": "ipython3",
   "version": "3.9.7"
  }
 },
 "nbformat": 4,
 "nbformat_minor": 5
}
